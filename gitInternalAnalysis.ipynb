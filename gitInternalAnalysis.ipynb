{
 "cells": [
  {
   "cell_type": "code",
   "execution_count": 4,
   "metadata": {},
   "outputs": [
    {
     "data": {
      "application/javascript": [
       "IPython.notebook.set_autosave_interval(0)"
      ]
     },
     "metadata": {},
     "output_type": "display_data"
    },
    {
     "name": "stdout",
     "output_type": "stream",
     "text": [
      "Autosave disabled\n"
     ]
    }
   ],
   "source": [
    "%load_ext autoreload\n",
    "%autoreload 2\n",
    "%autosave 0\n",
    "import git_graph as gg"
   ]
  },
  {
   "cell_type": "code",
   "execution_count": 54,
   "metadata": {},
   "outputs": [],
   "source": [
    "path = 'examples/git_test'"
   ]
  },
  {
   "cell_type": "code",
   "execution_count": 55,
   "metadata": {},
   "outputs": [
    {
     "name": "stdout",
     "output_type": "stream",
     "text": [
      "644125fc44689b83600eb75a9885aebff6f31ed3\n",
      "73eab880d4ee0f5a3bc41c1b8237ff3c8bbb9647\n",
      "229f5b08d58e8333c896e6daffcdf4feb98ee2b3\n",
      "7e78a8d9a8c7a036e2b1b5522135ece1cca530d3\n",
      "fcc8afbaf346676cc7b87c63ffe8b4b6bb445996\n",
      "8e8d601b00078a6369bfc5e04a2eb39549cb2753\n",
      "24f8d73a2e0f902f96092655a8d0a8e763e0eb6e\n",
      "4ce3718ed4f8d018013d5c41fc7baf1e07dcfd59\n",
      "d8d4b099fed5cbb1cab77d342fac8b012958580c\n",
      "95f14371eb72c337926e5f5c1d72000c300686fb\n",
      "1d35be5a4f0534e676b8d07db1808ea860649818\n",
      "1bfdeff5df7c1b59107a0085dce6caea04e826bd\n",
      "f4518b1095723693de90eae4a795b37052c9fafa\n",
      "3f419d176c8a4a0ae3214645a76dcdd46952eea9\n"
     ]
    }
   ],
   "source": [
    "for each_git_file in gg.get_git_files(path):\n",
    "    print(each_git_file)"
   ]
  },
  {
   "cell_type": "code",
   "execution_count": 56,
   "metadata": {
    "scrolled": false
   },
   "outputs": [
    {
     "name": "stdout",
     "output_type": "stream",
     "text": [
      "tree\n"
     ]
    }
   ],
   "source": [
    "print(gg.get_git_file_type(path, '73eab88'))"
   ]
  },
  {
   "cell_type": "code",
   "execution_count": 59,
   "metadata": {},
   "outputs": [
    {
     "name": "stdout",
     "output_type": "stream",
     "text": [
      "100755 blob 8e8d601b00078a6369bfc5e04a2eb39549cb2753\taccelerator_pitches_compact.pptx\n",
      "100644 blob d8d4b099fed5cbb1cab77d342fac8b012958580c\tempty1.txt\n",
      "100644 blob d8d4b099fed5cbb1cab77d342fac8b012958580c\tempty2.txt\n",
      "100644 blob d8d4b099fed5cbb1cab77d342fac8b012958580c\tempty3.log\n",
      "100755 blob 1d35be5a4f0534e676b8d07db1808ea860649818\tempty4.log\n",
      "040000 tree 3f419d176c8a4a0ae3214645a76dcdd46952eea9\tpptx\n"
     ]
    }
   ],
   "source": [
    "for each_line in gg.read_git_file(path, '73eab88'):\n",
    "    print(each_line)"
   ]
  },
  {
   "cell_type": "code",
   "execution_count": 62,
   "metadata": {},
   "outputs": [
    {
     "name": "stdout",
     "output_type": "stream",
     "text": [
      "blobs: ['7e78a8d', '8e8d601', 'd8d4b09', '1d35be5', 'f4518b1']\n",
      "trees: ['73eab88', '24f8d73', '4ce3718', '1bfdeff', '3f419d1']\n",
      "commits: ['644125f', '229f5b0', 'fcc8afb', '95f1437']\n"
     ]
    }
   ],
   "source": [
    "blobs, trees, commits = gg.build_git_nodes(path)\n",
    "print('blobs: ' + str(blobs))\n",
    "print('trees: ' + str(trees))\n",
    "print('commits: ' + str(commits))"
   ]
  },
  {
   "cell_type": "code",
   "execution_count": 64,
   "metadata": {},
   "outputs": [
    {
     "name": "stdout",
     "output_type": "stream",
     "text": [
      "digraph g{\n",
      "\tbgcolor=\"transparent\"\n",
      "\tnode [style=filled]\n",
      "\n",
      "\t// commits\n",
      "\tnode [fillcolor=\"#ffbb22\"]\n",
      "\t\"644125f\"\n",
      "\t\"229f5b0\"\n",
      "\t\"fcc8afb\"\n",
      "\t\"95f1437\"\n",
      "\n",
      "\t// trees\n",
      "\tnode [fillcolor=\"#ffccbb\"]\n",
      "\t\"73eab88\"\n",
      "\t\"24f8d73\"\n",
      "\t\"4ce3718\"\n",
      "\t\"1bfdeff\"\n",
      "\t\"3f419d1\"\n",
      "\n",
      "\t// blobs\n",
      "\tnode [fillcolor=\"#ffdd33\"]\n",
      "\t\"7e78a8d\"\n",
      "\t\"8e8d601\"\n",
      "\t\"d8d4b09\"\n",
      "\t\"1d35be5\"\n",
      "\t\"f4518b1\"\n",
      "\n",
      "\t// dependencies\n",
      "\t\"644125f\" -> \"24f8d73\"\n",
      "\t\"644125f\" -> \"229f5b0\"\n",
      "\t\"229f5b0\" -> \"4ce3718\"\n",
      "\t\"fcc8afb\" -> \"73eab88\"\n",
      "\t\"fcc8afb\" -> \"95f1437\"\n",
      "\t\"95f1437\" -> \"1bfdeff\"\n",
      "\t\"95f1437\" -> \"644125f\"\n",
      "\t\"73eab88\" -> \"8e8d601\"\n",
      "\t\"73eab88\" -> \"d8d4b09\"\n",
      "\t\"73eab88\" -> \"d8d4b09\"\n",
      "\t\"73eab88\" -> \"d8d4b09\"\n",
      "\t\"73eab88\" -> \"1d35be5\"\n",
      "\t\"73eab88\" -> \"3f419d1\"\n",
      "\t\"24f8d73\" -> \"8e8d601\"\n",
      "\t\"24f8d73\" -> \"d8d4b09\"\n",
      "\t\"24f8d73\" -> \"d8d4b09\"\n",
      "\t\"24f8d73\" -> \"d8d4b09\"\n",
      "\t\"24f8d73\" -> \"7e78a8d\"\n",
      "\t\"4ce3718\" -> \"8e8d601\"\n",
      "\t\"4ce3718\" -> \"d8d4b09\"\n",
      "\t\"4ce3718\" -> \"d8d4b09\"\n",
      "\t\"1bfdeff\" -> \"8e8d601\"\n",
      "\t\"1bfdeff\" -> \"d8d4b09\"\n",
      "\t\"1bfdeff\" -> \"d8d4b09\"\n",
      "\t\"1bfdeff\" -> \"d8d4b09\"\n",
      "\t\"1bfdeff\" -> \"1d35be5\"\n",
      "\t\"3f419d1\" -> \"8e8d601\"\n",
      "}\n",
      "\n"
     ]
    }
   ],
   "source": [
    "graph = gg.GitGraph(path)\n",
    "digraph = graph.get_graph()\n",
    "print(digraph)\n",
    "with open('auto.dot', 'w+') as digraph_file:\n",
    "    digraph_file.write(digraph)"
   ]
  },
  {
   "cell_type": "code",
   "execution_count": null,
   "metadata": {},
   "outputs": [],
   "source": []
  },
  {
   "cell_type": "code",
   "execution_count": 1,
   "metadata": {},
   "outputs": [
    {
     "data": {
      "image/svg+xml": [
       "<?xml version=\"1.0\" encoding=\"UTF-8\" standalone=\"no\"?>\n",
       "<!DOCTYPE svg PUBLIC \"-//W3C//DTD SVG 1.1//EN\"\n",
       " \"http://www.w3.org/Graphics/SVG/1.1/DTD/svg11.dtd\">\n",
       "<!-- Generated by graphviz version 2.38.0 (20140413.2041)\n",
       " -->\n",
       "<!-- Title: pet&#45;shop Pages: 1 -->\n",
       "<svg width=\"82pt\" height=\"116pt\"\n",
       " viewBox=\"0.00 0.00 82.00 116.00\" xmlns=\"http://www.w3.org/2000/svg\" xmlns:xlink=\"http://www.w3.org/1999/xlink\">\n",
       "<g id=\"graph0\" class=\"graph\" transform=\"scale(1 1) rotate(0) translate(4 112)\">\n",
       "<title>pet&#45;shop</title>\n",
       "<polygon fill=\"white\" stroke=\"none\" points=\"-4,4 -4,-112 78,-112 78,4 -4,4\"/>\n",
       "<!-- norwegian -->\n",
       "<g id=\"node1\" class=\"node\"><title>norwegian</title>\n",
       "<text text-anchor=\"middle\" x=\"37\" y=\"-86.3\" font-family=\"Times,serif\" font-size=\"14.00\">norwegian</text>\n",
       "</g>\n",
       "<!-- blue -->\n",
       "<g id=\"node2\" class=\"node\"><title>blue</title>\n",
       "<text text-anchor=\"middle\" x=\"37\" y=\"-14.3\" font-family=\"Times,serif\" font-size=\"14.00\">blue</text>\n",
       "</g>\n",
       "<!-- norwegian&#45;&gt;blue -->\n",
       "<g id=\"edge1\" class=\"edge\"><title>norwegian&#45;&gt;blue</title>\n",
       "<path fill=\"none\" stroke=\"black\" d=\"M37,-71.6966C37,-63.9827 37,-54.7125 37,-46.1124\"/>\n",
       "<polygon fill=\"black\" stroke=\"black\" points=\"40.5001,-46.1043 37,-36.1043 33.5001,-46.1044 40.5001,-46.1043\"/>\n",
       "</g>\n",
       "</g>\n",
       "</svg>\n"
      ],
      "text/plain": [
       "<graphviz.dot.Digraph at 0x7f34887e8940>"
      ]
     },
     "execution_count": 1,
     "metadata": {},
     "output_type": "execute_result"
    }
   ],
   "source": [
    "import graphviz\n",
    "ps = graphviz.Digraph(name='pet-shop', node_attr={'shape': 'plaintext'})\n",
    "#ps.node('parrot')\n",
    "#ps.node('dead')\n",
    "ps.edge('norwegian', 'blue')\n",
    "ps"
   ]
  },
  {
   "cell_type": "code",
   "execution_count": 2,
   "metadata": {},
   "outputs": [
    {
     "name": "stdout",
     "output_type": "stream",
     "text": [
      "digraph \"pet-shop\" {\n",
      "\tnode [shape=plaintext]\n",
      "\tnorwegian -> blue\n",
      "}\n"
     ]
    }
   ],
   "source": [
    "print(ps)"
   ]
  }
 ],
 "metadata": {
  "confluence_link": "https://confluence.fr.cfm.fr/pages/viewpage.action?pageId=71938351",
  "kernelspec": {
   "display_name": "Python [conda env:jupy3]",
   "language": "python",
   "name": "conda-env-jupy3-py"
  },
  "language_info": {
   "codemirror_mode": {
    "name": "ipython",
    "version": 3
   },
   "file_extension": ".py",
   "mimetype": "text/x-python",
   "name": "python",
   "nbconvert_exporter": "python",
   "pygments_lexer": "ipython3",
   "version": "3.6.2"
  },
  "toc": {
   "base_numbering": 1,
   "nav_menu": {},
   "number_sections": true,
   "sideBar": true,
   "skip_h1_title": false,
   "title_cell": "Table of Contents",
   "title_sidebar": "Contents",
   "toc_cell": false,
   "toc_position": {},
   "toc_section_display": true,
   "toc_window_display": false
  }
 },
 "nbformat": 4,
 "nbformat_minor": 2
}
